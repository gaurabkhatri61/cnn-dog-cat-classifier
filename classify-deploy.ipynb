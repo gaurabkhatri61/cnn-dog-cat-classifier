{
 "cells": [
  {
   "cell_type": "code",
   "execution_count": null,
   "id": "050a5223",
   "metadata": {},
   "outputs": [],
   "source": [
    "!pip install tensorflow Pillow\n",
    "!pip install numpy \n",
    "\n",
    "import tensorflow as tf\n",
    "from tensorflow.keras.models import load_model\n",
    "from tensorflow.keras.preprocessing import image\n",
    "import numpy as np\n",
    "from PIL import Image"
   ]
  },
  {
   "cell_type": "code",
   "execution_count": null,
   "id": "e8b07a5c",
   "metadata": {},
   "outputs": [],
   "source": [
    "model_path = 'model/cat_dog_model.h5'\n",
    "model = load_model(model_path)"
   ]
  },
  {
   "cell_type": "code",
   "execution_count": null,
   "id": "788c3010",
   "metadata": {},
   "outputs": [],
   "source": [
    "img_path='image.webp'\n",
    "img = Image.open(img_path).resize((150, 150))\n",
    "img"
   ]
  },
  {
   "cell_type": "code",
   "execution_count": 25,
   "id": "c6a75706",
   "metadata": {},
   "outputs": [],
   "source": [
    "img_array = image.img_to_array(img) / 255.0\n",
    "img_array = np.expand_dims(img_array, axis=0)"
   ]
  },
  {
   "cell_type": "code",
   "execution_count": null,
   "id": "36bb7e3b",
   "metadata": {},
   "outputs": [],
   "source": [
    "pred = model.predict(img_array)\n",
    "print(pred)\n",
    "print(\"Prediction:\", \"Dog\" if pred[0][0] > 0.5 else \"Cat\")\n"
   ]
  }
 ],
 "metadata": {
  "kernelspec": {
   "display_name": "nineenv",
   "language": "python",
   "name": "python3"
  },
  "language_info": {
   "codemirror_mode": {
    "name": "ipython",
    "version": 3
   },
   "file_extension": ".py",
   "mimetype": "text/x-python",
   "name": "python",
   "nbconvert_exporter": "python",
   "pygments_lexer": "ipython3",
   "version": "3.9.23"
  }
 },
 "nbformat": 4,
 "nbformat_minor": 5
}
